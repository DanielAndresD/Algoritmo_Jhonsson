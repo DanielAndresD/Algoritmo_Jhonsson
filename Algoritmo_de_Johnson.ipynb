{
  "nbformat": 4,
  "nbformat_minor": 0,
  "metadata": {
    "colab": {
      "name": "Algoritmo de Johnson.ipynb",
      "provenance": [],
      "collapsed_sections": [],
      "include_colab_link": true
    },
    "kernelspec": {
      "display_name": "Python 3",
      "name": "python3"
    },
    "language_info": {
      "name": "python"
    }
  },
  "cells": [
    {
      "cell_type": "markdown",
      "metadata": {
        "id": "view-in-github",
        "colab_type": "text"
      },
      "source": [
        "<a href=\"https://colab.research.google.com/github/DanielAndresD/Algoritmo_Jhonsson/blob/Cambio_c%C3%B3digo/Algoritmo_de_Johnson.ipynb\" target=\"_parent\"><img src=\"https://colab.research.google.com/assets/colab-badge.svg\" alt=\"Open In Colab\"/></a>"
      ]
    },
    {
      "cell_type": "markdown",
      "metadata": {
        "id": "ibXjj9fxFOZT"
      },
      "source": [
        "# Problema No. 2\n",
        "Suponga que cuenta con 30 trabajos que deben ser secuenciados en tres diferentes máquinas siguiendo la misma ruta M1-M2- M3, los tiempos de procesamiento se dan en la Tabla 2.\n",
        "\n",
        "\n",
        "\n",
        "\n"
      ]
    },
    {
      "cell_type": "code",
      "metadata": {
        "id": "k-ZDsGpQFLP3",
        "cellView": "code"
      },
      "source": [
        "#@Algoritmo de Johnson\n",
        "#@autor:Daniel Dávila Lesmes\n",
        "#Contact: dadavilal@correo.udistrital.edu.co\n",
        "#Código para cargar la información de entrada\n",
        "import numpy as np\n",
        "#Condiciones de la información de entrada\n",
        "#El documento a cargar debe estar en formato txt con 4 columnas\n",
        "#El formato de los datos corresponde a:\n",
        "#   1° columna índice de la tarea a realizar\n",
        "#   2° columna Tiempo de procesamiento en la primera máquina\n",
        "#   3° columna Tiempo de procesamiento en la segunda máquina\n",
        "#   4° columna Tiempo de procesamiento en la tercera máquina\n",
        "# copie la ruta de acceso al documento\n",
        "ruta_txt=input(\"Ingrese la ruta del archivo, recuerde haberlo cargado al entorno de Colab previamente\")\n",
        "tareas_a_procesar= np.loadtxt(ruta_txt,int)\n",
        "print(\"Se ha cargado la información correctamente\")\n",
        "tareas_a_procesar"
      ],
      "execution_count": null,
      "outputs": []
    },
    {
      "cell_type": "markdown",
      "metadata": {
        "id": "IjPqKCGVKCX0"
      },
      "source": [
        "Codifique un algoritmo en algún lenguaje de programación (vba, java, c + +, gams, matlab...), que le permita aplicar la adaptación del algoritmo de Johnson para el caso de tres máquinas, recuerde que el algoritmo debe permitir utilizar cualquier tamaño de instancia."
      ]
    },
    {
      "cell_type": "markdown",
      "metadata": {
        "id": "KlhfvZqIR9Xx"
      },
      "source": [
        "# **Desarrollo**"
      ]
    },
    {
      "cell_type": "markdown",
      "metadata": {
        "id": "71zy8quEq6Va"
      },
      "source": [
        "Una vez se carga la información de entrada, se verifican las condiciones de optimalidad del Algoritmo de Johnson."
      ]
    },
    {
      "cell_type": "code",
      "metadata": {
        "colab": {
          "base_uri": "https://localhost:8080/"
        },
        "id": "cqR1TNbLKUxS",
        "outputId": "b7f91cd4-0e30-4d81-ce70-f32f6f2d3f5c"
      },
      "source": [
        "P1= min(tareas_a_procesar[:,1]) #Mínimo tiempo de procesameinto M1\n",
        "P2= max(tareas_a_procesar[:,2]) #Máximo tiempo de procesameinto M2\n",
        "P3= min(tareas_a_procesar[:,3]) #Mínimo tiempo de procesameinto M3\n",
        "print(f\"Mínimo tiempo de procesamiento M1: {P1}\\n\"+\n",
        "f\"Máximo tiempo de procesamiento M2: {P2}\\n\"+\n",
        "f\"Mínimo tiempo de procesamiento M3: {P3}\\n\"  \n",
        ")"
      ],
      "execution_count": null,
      "outputs": [
        {
          "output_type": "stream",
          "text": [
            "Mínimo tiempo de procesamiento M1: 4\n",
            "Máximo tiempo de procesamiento M2: 17\n",
            "Mínimo tiempo de procesamiento M3: 4\n",
            "\n"
          ],
          "name": "stdout"
        }
      ]
    },
    {
      "cell_type": "markdown",
      "metadata": {
        "id": "EheCbgc_aoGH"
      },
      "source": [
        "Condiciones para garantizar la optimalidad:\n",
        "1. Min(Pj-M1)>= Máx(Pj-M2)\n",
        "2. Min(Pj-M3)>=Máx(Pj-M2)"
      ]
    },
    {
      "cell_type": "code",
      "metadata": {
        "colab": {
          "base_uri": "https://localhost:8080/"
        },
        "id": "CYp237vept6E",
        "outputId": "8943745b-1255-4ebe-a933-8d0025ed7c57"
      },
      "source": [
        "if  (P3>=P2)or(P2<=P1):\n",
        "  print(\"Se cumple al menos una condición por lo tanto el AJ es óptimo\")\n",
        "else:\n",
        "  print(\"No se cumple ninguna de las dos condiciones, por lo que el AJ no garantiza optimalidad\")"
      ],
      "execution_count": null,
      "outputs": [
        {
          "output_type": "stream",
          "text": [
            "No se cumple ninguna de las dos condiciones, por lo que el AJ no garantiza optimalidad\n"
          ],
          "name": "stdout"
        }
      ]
    },
    {
      "cell_type": "markdown",
      "metadata": {
        "id": "j_gcpmLI13EI"
      },
      "source": [
        "**Implementación del código para resolver el problema de secuenciación en 2 máquinas mediante el algortimo de Johnson**"
      ]
    },
    {
      "cell_type": "code",
      "metadata": {
        "colab": {
          "base_uri": "https://localhost:8080/"
        },
        "id": "e75fxp7ese_N",
        "outputId": "dab5ae24-26d6-47e2-8462-3faa06a6a3a4"
      },
      "source": [
        "k=0\n",
        "l=len(tareas_a_procesar) \n",
        "m=tareas_a_procesar[:,(0,0,0)] # matriz temporal para organizar la secuencia\n",
        "#Ajuste del problema de 3 máquinas a 2 máquinas\n",
        "for i in range(0,l):\n",
        "  m[i,1]=tareas_a_procesar[i,1]+tareas_a_procesar[i,2]\n",
        "  m[i,2]=tareas_a_procesar[i,2]+tareas_a_procesar[i,3]\n",
        "\n",
        "sec=[None]*len(tareas_a_procesar) #vector que almacena la secuencia\n",
        "#Función buscar para encontrar el indicativo de la tarea\n",
        "def buscar(x,m,j):\n",
        "  k1=0\n",
        "  while x != m[k1,j]:\n",
        "     k1 +=1\n",
        "  buscar=k1\n",
        "  return buscar\n",
        "#Algoritmo de Johnson\n",
        "while k <=len(tareas_a_procesar)-1:\n",
        "  k +=1\n",
        "  l -=1\n",
        "  n1=min(m[:,1])\n",
        "  n2=min(m[:,2])\n",
        " # condición de evaluación del valor mínimo según la máquina\n",
        "  if n1 <=n2:\n",
        "    mm=buscar(n1,m,1)\n",
        "    while sec[i] != None:\n",
        "      i +=1\n",
        "  else:\n",
        "    mm=buscar(n2,m,2)\n",
        "    while sec[i] != None:\n",
        "      i -=1\n",
        "  sec[i]=m[mm,0]\n",
        "  #Ubicación según el criterio\n",
        "  i=0\n",
        "\n",
        "  m= np.delete(m,mm,0) \n",
        "print(sec) "
      ],
      "execution_count": null,
      "outputs": [
        {
          "output_type": "stream",
          "text": [
            "[5, 12, 30, 22, 13, 21, 10, 18, 26, 7, 20, 19, 29, 28, 1, 8, 6, 16, 15, 3, 2, 14, 4, 23, 11, 24, 17, 27, 25, 9]\n"
          ],
          "name": "stdout"
        }
      ]
    }
  ]
}