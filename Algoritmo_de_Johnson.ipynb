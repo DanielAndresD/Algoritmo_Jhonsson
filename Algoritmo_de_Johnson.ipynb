{
  "nbformat": 4,
  "nbformat_minor": 0,
  "metadata": {
    "colab": {
      "name": "Algoritmo de Johnson.ipynb",
      "provenance": [],
      "collapsed_sections": [],
      "toc_visible": true,
      "include_colab_link": true
    },
    "kernelspec": {
      "display_name": "Python 3",
      "name": "python3"
    },
    "language_info": {
      "name": "python"
    }
  },
  "cells": [
    {
      "cell_type": "markdown",
      "metadata": {
        "id": "view-in-github",
        "colab_type": "text"
      },
      "source": [
        "<a href=\"https://colab.research.google.com/github/DanielAndresD/Algoritmo_Jhonsson/blob/main/Algoritmo_de_Johnson.ipynb\" target=\"_parent\"><img src=\"https://colab.research.google.com/assets/colab-badge.svg\" alt=\"Open In Colab\"/></a>"
      ]
    },
    {
      "cell_type": "markdown",
      "metadata": {
        "id": "ibXjj9fxFOZT"
      },
      "source": [
        "# Problema No. 2\n",
        "Suponga que cuenta con 30 trabajos que deben ser secuenciados en tres diferentes máquinas siguiendo la misma ruta M1-M2- M3, los tiempos de procesamiento se dan en la Tabla 2.\n",
        "\n",
        "\n",
        "\n",
        "\n"
      ]
    },
    {
      "cell_type": "code",
      "metadata": {
        "colab": {
          "base_uri": "https://localhost:8080/"
        },
        "id": "k-ZDsGpQFLP3",
        "outputId": "a7fbc567-f543-4854-caa2-f7106686fcbc"
      },
      "source": [
        "#Código para cargar la información de entrada\n",
        "import numpy as np\n",
        "tabla2= np.loadtxt('/content/DP2.txt',int)\n",
        "\n",
        "print(\"     Tarea\",\" M1\",\"M2\",\" M3\")\n",
        "tabla2"
      ],
      "execution_count": null,
      "outputs": [
        {
          "output_type": "stream",
          "text": [
            "     Tarea  M1 M2  M3\n"
          ],
          "name": "stdout"
        },
        {
          "output_type": "execute_result",
          "data": {
            "text/plain": [
              "array([[ 1, 14, 12, 17],\n",
              "       [ 2, 14, 15, 12],\n",
              "       [ 3, 18, 17, 10],\n",
              "       [ 4, 19, 16,  8],\n",
              "       [ 5, 12,  6,  5],\n",
              "       [ 6, 13, 15, 19],\n",
              "       [ 7, 11, 10, 19],\n",
              "       [ 8, 14, 13, 21],\n",
              "       [ 9,  6,  5,  5],\n",
              "       [10,  7, 12, 11],\n",
              "       [11, 10, 13,  6],\n",
              "       [12,  4,  9, 13],\n",
              "       [13,  4, 13, 26],\n",
              "       [14, 13, 15,  9],\n",
              "       [15, 18, 16, 15],\n",
              "       [16, 21, 12, 25],\n",
              "       [17, 21,  5, 13],\n",
              "       [18, 15,  5, 16],\n",
              "       [19,  7, 16, 21],\n",
              "       [20,  8, 13, 14],\n",
              "       [21, 13,  5, 15],\n",
              "       [22,  7,  8, 26],\n",
              "       [23, 19, 13,  9],\n",
              "       [24, 11,  9,  9],\n",
              "       [25, 16,  8,  5],\n",
              "       [26,  6, 14, 21],\n",
              "       [27, 16, 11,  4],\n",
              "       [28,  9, 15, 19],\n",
              "       [29, 16,  7, 19],\n",
              "       [30,  6,  7, 18]])"
            ]
          },
          "metadata": {
            "tags": []
          },
          "execution_count": 40
        }
      ]
    },
    {
      "cell_type": "markdown",
      "metadata": {
        "id": "IjPqKCGVKCX0"
      },
      "source": [
        "Codifique un algoritmo en algún lenguaje de programación (vba, java, c + +, gams, matlab...), que le permita aplicar la adaptación del algoritmo de Johnson para el caso de tres máquinas, recuerde que el algoritmo debe permitir utilizar cualquier tamaño de instancia."
      ]
    },
    {
      "cell_type": "markdown",
      "metadata": {
        "id": "KlhfvZqIR9Xx"
      },
      "source": [
        "# **Desarrollo**"
      ]
    },
    {
      "cell_type": "markdown",
      "metadata": {
        "id": "71zy8quEq6Va"
      },
      "source": [
        "Una vez se carga la información de entrada, se verifican las condiciones de optimalidad del Algoritmo de Johnson."
      ]
    },
    {
      "cell_type": "code",
      "metadata": {
        "colab": {
          "base_uri": "https://localhost:8080/"
        },
        "id": "cqR1TNbLKUxS",
        "outputId": "f5c26cbc-a4ef-4a7a-9781-0d2734fa7815"
      },
      "source": [
        "P1= min(tabla2[:,1]) #Mínimo tiempo de procesameinto M1\n",
        "P2= max(tabla2[:,2]) #Máximo tiempo de procesameinto M2\n",
        "P3= min(tabla2[:,3]) #Mínimo tiempo de procesameinto M3\n",
        "print(\n",
        "\"Mínimo tiempo de procesamiento M1: \"+str(P1) \n",
        "+\"\\n\"+\n",
        "\"Máximo tiempo de procesamiento M2: \"+str(P2) \n",
        "+\"\\n\"+\n",
        "\"Mínimo tiempo de procesamiento M3: \"+str(P3)    \n",
        ")"
      ],
      "execution_count": null,
      "outputs": [
        {
          "output_type": "stream",
          "text": [
            "Mínimo tiempo de procesamiento M1: 4\n",
            "Máximo tiempo de procesamiento M2: 17\n",
            "Mínimo tiempo de procesamiento M3: 4\n"
          ],
          "name": "stdout"
        }
      ]
    },
    {
      "cell_type": "markdown",
      "metadata": {
        "id": "EheCbgc_aoGH"
      },
      "source": [
        "Condiciones para garantizar la optimalidad:\n",
        "1. Min(Pj-M1)>= Máx(Pj-M2)\n",
        "2. Min(Pj-M3)>=Máx(Pj-M2)"
      ]
    },
    {
      "cell_type": "code",
      "metadata": {
        "colab": {
          "base_uri": "https://localhost:8080/"
        },
        "id": "CYp237vept6E",
        "outputId": "37bbbe4d-e462-4944-801a-7acf1587ad14"
      },
      "source": [
        "Condicion1= bool(P1>=P2)\n",
        "Condicion2=bool(P3>=P2)\n",
        "if  (Condicion1==True) or (Condicion2==True):\n",
        "  print(\"Se cumple al menos una condición por lo tanto el AJ es óptimo\")\n",
        "else:\n",
        "  print(\"No se cumple ninguna de las dos condiciones, por lo que el AJ no garantiza optimalidad\")"
      ],
      "execution_count": null,
      "outputs": [
        {
          "output_type": "stream",
          "text": [
            "No se cumple ninguna de las dos condiciones, por lo que el AJ no garantiza optimalidad\n"
          ],
          "name": "stdout"
        }
      ]
    },
    {
      "cell_type": "markdown",
      "metadata": {
        "id": "ocKuJODtB2pE"
      },
      "source": [
        "Se aplica el algoritmo de Johnson para determinar la secuenciación.\n",
        "Pseudocodígo:\n",
        "\n",
        "**1° Paso Matriz temporal para aplicar la secuenciación**\n",
        "\n",
        "\n",
        "```\n",
        "m(n,3) #donde n corresponde al número de trabajos a procesar\n",
        "    -En la primer columna se asigna el indicativo de la tarea\n",
        "    -En la segunda columna los tiempos de procesamiento de la primer máquina\n",
        "    -En la tercer columna los tiempos de procesamiento de la tercer máquina\n",
        "\n",
        "Sec(n) #Vector que almacena la secuenciación final\n",
        "```\n",
        "**2° Paso Adaptar el problema de 3 Máquinas a 2 Máquinas**\n",
        "\n",
        "```\n",
        "  For i=1 -> n\n",
        "    m[i,1]= M1(i)+M2(i)\n",
        "    m[i,2]= M2(i)+M3(i)\n",
        "```\n",
        "**3° Paso: Definir la función de búsqueda para el indicativo de la tarea**\n",
        "\n",
        "\n",
        "```\n",
        "Busqueda(Tarea a buscar [x],Matriz de búsqueda [M],Indicativo de la máquina a realizar búsqueda [j])\n",
        "  k1=0 #contador\n",
        "  While x diferente m[k1,j[\n",
        "    k1=k1+1\n",
        "  Retornar (k1)# se devuelve la posición de la tarea a asignar\n",
        "```\n",
        "**4° Paso: Aplicar la regla de Johnson**\n",
        "\n",
        "\n",
        "```\n",
        "k=0 #contador de las tareas a asignar en orden ascendente\n",
        "l=n #contador de las tareas a asignar en orden descendente\n",
        "Mientras k <= n #Critero para la detención del algortimo\n",
        "  k=k+1\n",
        "  l=l+1\n",
        "    #buscar los tiempos mínimos de las actividades por programar en la matriz temporal\n",
        "  n1=MinP(m(M1))\n",
        "  n2=MinP(m(M2))\n",
        "    #Condicional para identificar la máquina con mínimo tiempo de procesamiento en la actividad\n",
        "  If n1 >= n2\n",
        "    x=n1\n",
        "    j=1\n",
        "  else\n",
        "    x=n2\n",
        "    j=n2\n",
        "    #Aplicar la función de búsqueda\n",
        "  mm=buscar(x,m,j) #tarea a secuenciar\n",
        "    #Aplicar la regla de secuenciación \n",
        "  If j=1 \n",
        "    sec[i+1] = mm # se organiza en orden ascendente\n",
        "  else if j=2\n",
        "    sec[i-1]=mm # se organiza de forma descendente\n",
        "  #eliminar la tarea que ya fue asignada de la matriz temporal\n",
        "  delete(m(mm))\n",
        "  \n",
        "```\n",
        "Repetir el paso 4 hasta que todas las tareas sean asignadas\n",
        "\n",
        "\n"
      ]
    },
    {
      "cell_type": "markdown",
      "metadata": {
        "id": "j_gcpmLI13EI"
      },
      "source": [
        "**Implementación del código para resolver el problema de secuenciación en 2 máquinas mediante el algortimo de Johnson**"
      ]
    },
    {
      "cell_type": "code",
      "metadata": {
        "colab": {
          "base_uri": "https://localhost:8080/"
        },
        "id": "e75fxp7ese_N",
        "outputId": "be415a85-ce9a-473b-807f-888ee75ac719"
      },
      "source": [
        "k=0\n",
        "l=len(tabla2) \n",
        "m=tabla2[:,(0,0,0)] # matriz temporal para organizar la secuencia\n",
        "#Ajuste del problema de 3 máquinas a 2 máquinas\n",
        "for i in range(0,l):\n",
        "  m[i,1]=tabla2[i,1]+tabla2[i,2]\n",
        "  m[i,2]=tabla2[i,2]+tabla2[i,3]\n",
        "\n",
        "sec=[None]*len(tabla2) #vector que almacena la secuencia\n",
        "#Función buscar para encontrar el indicativo de la tarea\n",
        "def buscar(x,m,j):\n",
        "  k1=0\n",
        "  while x != m[k1,j]:\n",
        "     k1 +=1\n",
        "  buscar=k1\n",
        "  return buscar\n",
        "#Algoritmo de Johnson\n",
        "while k <=len(tabla2)-1:\n",
        "  k +=1\n",
        "  l -=1\n",
        "  n1=min(m[:,1])\n",
        "  n2=min(m[:,2])\n",
        " # condición de evaluación del valor mínimo según la máquina\n",
        "  if n1 <=n2:\n",
        "    x=n1\n",
        "    j=1\n",
        "  else:\n",
        "    x=n2\n",
        "    j=2\n",
        "  mm=buscar(x,m,j)\n",
        "  if j==1:\n",
        "    i=0\n",
        "    while sec[i] != None:\n",
        "      i +=1\n",
        "    sec[i]=m[mm,0]\n",
        "  else:\n",
        "    i=len(sec)-1\n",
        "    while sec[i] != None:\n",
        "      i -=1\n",
        "    sec[i]=m[mm,0]\n",
        "  m= np.delete(m,mm,0) \n",
        "print(sec) "
      ],
      "execution_count": null,
      "outputs": [
        {
          "output_type": "stream",
          "text": [
            "[12, 30, 22, 13, 21, 10, 18, 26, 7, 20, 19, 29, 28, 1, 8, 6, 16, 15, 3, 2, 14, 4, 23, 11, 24, 17, 27, 25, 5, 9]\n"
          ],
          "name": "stdout"
        }
      ]
    },
    {
      "cell_type": "markdown",
      "metadata": {
        "id": "l8ull12aj1Ym"
      },
      "source": [
        "Una vez obtenida la secuencia, se calculan las medidas de desempeño"
      ]
    }
  ]
}