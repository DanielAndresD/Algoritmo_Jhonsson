{
  "nbformat": 4,
  "nbformat_minor": 0,
  "metadata": {
    "colab": {
      "name": "aleatorios.ipynb",
      "provenance": [],
      "authorship_tag": "ABX9TyMJfZPBAIcR4OgCgeGUpytM",
      "include_colab_link": true
    },
    "kernelspec": {
      "name": "python3",
      "display_name": "Python 3"
    },
    "language_info": {
      "name": "python"
    }
  },
  "cells": [
    {
      "cell_type": "markdown",
      "metadata": {
        "id": "view-in-github",
        "colab_type": "text"
      },
      "source": [
        "<a href=\"https://colab.research.google.com/github/DanielAndresD/Algoritmo_Jhonsson/blob/Version1/Num_aleatorios.ipynb\" target=\"_parent\"><img src=\"https://colab.research.google.com/assets/colab-badge.svg\" alt=\"Open In Colab\"/></a>"
      ]
    },
    {
      "cell_type": "code",
      "metadata": {
        "id": "dPSp_OuDBHje"
      },
      "source": [
        "def generarAleatorios(funcion,semilla,cantidad=100):\n",
        "  aleatorios=[]\n",
        "  k=0\n",
        "  while aleatorio not in aleatorios[::] or k< cantidad :\n",
        "    aleatorios.append(aleatorio)\n",
        "    k+=1\n",
        "  return aleatorios\n",
        "def main():\n",
        "  print()\n"
      ],
      "execution_count": null,
      "outputs": []
    }
  ]
}